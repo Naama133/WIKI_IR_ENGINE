{
  "nbformat": 4,
  "nbformat_minor": 0,
  "metadata": {
    "colab": {
      "name": "MAP@40 calculation.ipynb",
      "provenance": [],
      "collapsed_sections": [],
      "authorship_tag": "ABX9TyNt8Bmtc9MKBjlAXfYtkzIC",
      "include_colab_link": true
    },
    "kernelspec": {
      "name": "python3",
      "display_name": "Python 3"
    },
    "language_info": {
      "name": "python"
    }
  },
  "cells": [
    {
      "cell_type": "markdown",
      "metadata": {
        "id": "view-in-github",
        "colab_type": "text"
      },
      "source": [
        "<a href=\"https://colab.research.google.com/github/Naama133/WIKI_IR_ENGINE/blob/master/MAP_40_calculation.ipynb\" target=\"_parent\"><img src=\"https://colab.research.google.com/assets/colab-badge.svg\" alt=\"Open In Colab\"/></a>"
      ]
    },
    {
      "cell_type": "code",
      "execution_count": null,
      "metadata": {
        "id": "RL90rs3H6VCe"
      },
      "outputs": [],
      "source": [
        "def average_precision(true_list,predicted_list,k=40):\n",
        "    \"\"\"\n",
        "    Calculate the average_precision@k metric (precision in every recall point).     \n",
        "\n",
        "    Parameters\n",
        "    -----------\n",
        "    true_list: list of relevant documents. Each element is a doc_id.\n",
        "    predicted_list: sorted list of documents predicted as relevant. Each element is a doc_id. Sorted is performed by relevance score\n",
        "    \n",
        "    Returns:\n",
        "    -----------\n",
        "    float, average precision@k with 3 digits after the decimal point.\n",
        "    \"\"\"\n",
        "    predicted_list_k = predicted_list[:k]\n",
        "    dic = {}\n",
        "    for doc in true_list:\n",
        "      dic[doc] = 0\n",
        "    sum = 0\n",
        "    counter = 0\n",
        "    index = 0\n",
        "    for doc in predicted_list_k:\n",
        "      index+=1\n",
        "      if doc in dic:\n",
        "        counter+=1\n",
        "        sum += precision_at_k(true_list,predicted_list,index)\n",
        "    if(sum==0):\n",
        "      return round(float(0),3)\n",
        "    return round(float(sum/counter),3)\n",
        "\n",
        "queries_predicted_list_resluts = [] # from our IR engine \n",
        "queries_true_list = [] # from train test json file\n",
        "avg_precision = []\n",
        "for i in range(len(queries_predicted_list_resluts)):\n",
        "  avg_precision.append(average_precision(queries_true_list[i],queries_predicted_list_resluts[i]))\n",
        "\n",
        "map_40 = sum(avg_precision)/len(avg_precision)"
      ]
    },
    {
      "cell_type": "code",
      "source": [
        ""
      ],
      "metadata": {
        "id": "ituRu4K4-Foc"
      },
      "execution_count": null,
      "outputs": []
    }
  ]
}