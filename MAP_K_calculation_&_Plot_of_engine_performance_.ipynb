{
  "nbformat": 4,
  "nbformat_minor": 0,
  "metadata": {
    "colab": {
      "name": "MAP@K calculation & Plot of engine performance .ipynb",
      "provenance": [],
      "collapsed_sections": [],
      "authorship_tag": "ABX9TyM8KA2nMbyXvpNmPmN9YWGN",
      "include_colab_link": true
    },
    "kernelspec": {
      "name": "python3",
      "display_name": "Python 3"
    },
    "language_info": {
      "name": "python"
    }
  },
  "cells": [
    {
      "cell_type": "markdown",
      "metadata": {
        "id": "view-in-github",
        "colab_type": "text"
      },
      "source": [
        "<a href=\"https://colab.research.google.com/github/Naama133/WIKI_IR_ENGINE/blob/master/MAP_K_calculation_%26_Plot_of_engine_performance_.ipynb\" target=\"_parent\"><img src=\"https://colab.research.google.com/assets/colab-badge.svg\" alt=\"Open In Colab\"/></a>"
      ]
    },
    {
      "cell_type": "code",
      "execution_count": null,
      "metadata": {
        "id": "RL90rs3H6VCe"
      },
      "outputs": [],
      "source": [
        "def precision_at_k(true_list,predicted_list,k=40):    \n",
        "    \"\"\"\n",
        "    Calculate precision@k metric.\n",
        "\n",
        "    Parameters\n",
        "    -----------\n",
        "    true_list: list of relevant documents. Each element is a doc_id.\n",
        "    predicted_list: sorted list of documents predicted as relevant. Each element is a doc_id. Sorted is performed by relevance score\n",
        "    k: integer, a number to slice the length of the predicted_list\n",
        "    \n",
        "    Returns: precision@k with 3 digits after the decimal point.\n",
        "    \"\"\"      \n",
        "    predicted_list_k = predicted_list[:k]\n",
        "    dic = {}\n",
        "    for doc in true_list:\n",
        "      dic[doc] = 0\n",
        "    counter = 0\n",
        "    for doc in predicted_list_k:\n",
        "      if doc in dic:\n",
        "        counter+=1\n",
        "    return round(float(counter/k),3)\n",
        "\n",
        "def MAP_at_K(true_list,predicted_list,k=40):\n",
        "    \"\"\"\n",
        "    Calculate the average_precision@k metric (precision in every recall point).     \n",
        "\n",
        "    Parameters\n",
        "    -----------\n",
        "    true_list: list of lists: list of true resulets for queries from train test. Each element is a doc_id.\n",
        "    predicted_list: list of lists: list of results for queries from our IR engine , sorted list of documents predicted as relevant. Each element is a doc_id. Sorted is performed by relevance score\n",
        "    \n",
        "    ** Those lists must have the same order **\n",
        "\n",
        "    Returns: float, average precision@k with 3 digits after the decimal point.\n",
        "    \"\"\"\n",
        "    if not true_list:\n",
        "      return round(float(0),3)\n",
        "    avg_precision = []\n",
        "    for i in range(len(true_list)):\n",
        "      predicted_list_k = predicted_list[i][:k]\n",
        "      true_list_for_q = true_list[i]\n",
        "      dic = {}\n",
        "      for doc in true_list_for_q:\n",
        "        dic[doc] = 0\n",
        "      sum_result = 0\n",
        "      counter = 0\n",
        "      index = 0\n",
        "      for doc in predicted_list_k:\n",
        "        index+=1\n",
        "        if doc in dic:\n",
        "          counter+=1\n",
        "          sum_result += precision_at_k(true_list_for_q,predicted_list[i],index)\n",
        "      if(sum_result==0):\n",
        "        avg_precision.append(round(float(0),3))\n",
        "      else:\n",
        "        avg_precision.append(round(float(sum_result/counter),3))   \n",
        "    return round(float(sum(avg_precision)/len(avg_precision)),3)\n",
        "    \n",
        "# run example\n",
        "#queries_true_list = [q1=[1,2,3], q2=[1,2,3]]\n",
        "#queries_predicted_list_resluts = [q1=[1,2,3], q2=[1,2,3]]\n",
        "# queries_true_list: list of lists: list of true resulets for queries from train test json file\n",
        "# queries_predicted_list_resluts: list of lists: list of results for queries from our IR engine \n",
        "#map_40 = MAP_at_K(queries_true_list,queries_predicted_list_resluts,k=40)"
      ]
    },
    {
      "cell_type": "code",
      "source": [
        "import matplotlib.pyplot as plt\n",
        "\n",
        "def plot_MAP_at_K_with_differnt_k_values(true_relevancy,predicted_relevancy,k_values):    \n",
        "    \"\"\"\n",
        "    Plot a for MAP@K metric the values depands on k_values as line chart.\n",
        "\n",
        "    Parameters\n",
        "    ----------\n",
        "    true_relevancy: list of lists: list of true resulets for queries from train test json file\n",
        "    predicted_relevancy: list of lists: list of results for queries from our IR engine \n",
        "    k_values: list of integer of different k values.\n",
        "    \"\"\"\n",
        "\n",
        "    values = []\n",
        "    for k in k_values:\n",
        "      values.append(MAP_at_K(true_relevancy,predicted_relevancy,k))\n",
        "    plt.plot(k_values, values)\n",
        "    plt.xlabel('K - values')\n",
        "    plt.ylabel('Results')\n",
        "    plt.show()\n",
        "    return values"
      ],
      "metadata": {
        "id": "ituRu4K4-Foc"
      },
      "execution_count": null,
      "outputs": []
    },
    {
      "cell_type": "code",
      "source": [
        "def plot__IR_time_per_version(times_measurements):    \n",
        "    plt.plot([i for i in range(1,len(times_measurements)+1)], times_measurements)\n",
        "    plt.xticks([i for i in range(1,len(times_measurements)+1)])\n",
        "    plt.yticks(times_measurements)\n",
        "    plt.xlabel('Engine versions')\n",
        "    plt.ylabel('Times measurements')\n",
        "    plt.show()"
      ],
      "metadata": {
        "id": "z1nndrw1MbYH"
      },
      "execution_count": null,
      "outputs": []
    },
    {
      "cell_type": "code",
      "source": [
        "k_values = [1,3,5,10,20,30,40]\n",
        "print(\"\")\n",
        "print(\"------ MAP@K results for different K values ------\")\n",
        "print(\"\")\n",
        "results = plot_MAP_at_K_with_differnt_k_values([[1,2,3]],[[4,2,3]],k_values=k_values)\n",
        "print(\"\")\n",
        "print(\"      MAP@40 result for this version: \" + str(results[-1]))\n",
        "print(\"\")\n",
        "print(\"----------------- Average IR time -----------------\")\n",
        "print(\"\")\n",
        "plot__IR_time_per_version([1,6,3])\n",
        "print(\"\")"
      ],
      "metadata": {
        "colab": {
          "base_uri": "https://localhost:8080/",
          "height": 697
        },
        "id": "N4ONATAdyh7i",
        "outputId": "9b0c163d-0a15-48cc-e068-360446f88e87"
      },
      "execution_count": null,
      "outputs": [
        {
          "output_type": "stream",
          "name": "stdout",
          "text": [
            "\n",
            "------ MAP@K results for different K values ------\n",
            "\n"
          ]
        },
        {
          "output_type": "display_data",
          "data": {
            "image/png": "[encoded data removed]",
            "text/plain": [
              "<Figure size 432x288 with 1 Axes>"
            ]
          },
          "metadata": {
            "needs_background": "light"
          }
        },
        {
          "output_type": "stream",
          "name": "stdout",
          "text": [
            "\n",
            "      MAP@40 result for this version: 0.584\n",
            "\n",
            "----------------- Average IR time -----------------\n",
            "\n"
          ]
        },
        {
          "output_type": "display_data",
          "data": {
            "image/png": "[encoded data removed]",
            "text/plain": [
              "<Figure size 432x288 with 1 Axes>"
            ]
          },
          "metadata": {
            "needs_background": "light"
          }
        },
        {
          "output_type": "stream",
          "name": "stdout",
          "text": [
            "\n"
          ]
        }
      ]
    }
  ]
}